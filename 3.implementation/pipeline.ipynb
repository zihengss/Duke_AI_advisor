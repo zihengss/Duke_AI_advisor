{
 "cells": [
  {
   "cell_type": "code",
   "execution_count": 1,
   "metadata": {},
   "outputs": [],
   "source": [
    "user_input = 'I want to take a software development course, give me some recommendations'\n",
    "rag_num_return = 10\n",
    "\n",
    "rag_model_path = '../models/gte-base-en-v1.5'\n",
    "rerank_model_path = \"../models/gte-multilingual-reranker-base\"\n",
    "llm_model_name = \"../models/Qwen2.5-0.5B-Finetuned\""
   ]
  },
  {
   "cell_type": "markdown",
   "metadata": {},
   "source": [
    "# RAG"
   ]
  },
  {
   "cell_type": "code",
   "execution_count": 2,
   "metadata": {},
   "outputs": [
    {
     "name": "stderr",
     "output_type": "stream",
     "text": [
      "/Users/zihengs/myenv/lib/python3.12/site-packages/sentence_transformers/cross_encoder/CrossEncoder.py:11: TqdmExperimentalWarning: Using `tqdm.autonotebook.tqdm` in notebook mode. Use `tqdm.tqdm` instead to force console mode (e.g. in jupyter console)\n",
      "  from tqdm.autonotebook import tqdm, trange\n",
      "WARNING: All log messages before absl::InitializeLog() is called are written to STDERR\n",
      "I0000 00:00:1736008489.843167 5532294 config.cc:230] gRPC experiments enabled: call_status_override_on_cancellation, event_engine_dns, event_engine_listener, http2_stats_fix, monitoring_experiment, pick_first_new, trace_record_callops, work_serializer_clears_time_cache\n",
      "I0000 00:00:1736008489.851069 5532790 subchannel.cc:806] subchannel 0x32fa3f0d0 {address=unix:/var/folders/rn/5219x28n1bb9p3w3td_571000000gn/T/tmppn0fxy_2_dukies.db.sock, args={grpc.client_channel_factory=0x32c5f7dd0, grpc.default_authority=var%2Ffolders%2Frn%2F5219x28n1bb9p3w3td_571000000gn%2FT%2Ftmppn0fxy_2_dukies.db.sock, grpc.enable_retries=1, grpc.internal.channel_credentials=0x32c575d40, grpc.internal.client_channel_call_destination=0x10c5dfa18, grpc.internal.event_engine=0x32e6f9460, grpc.internal.security_connector=0x32e6e4260, grpc.internal.subchannel_pool=0x32a8db900, grpc.keepalive_time_ms=55000, grpc.max_receive_message_length=-1, grpc.max_send_message_length=-1, grpc.primary_user_agent=grpc-python/1.65.1, grpc.resource_quota=0x32f16ac60, grpc.server_uri=unix:/var/folders/rn/5219x28n1bb9p3w3td_571000000gn/T/tmppn0fxy_2_dukies.db.sock}}: connect failed (UNKNOWN:connect: No such file or directory (2) {created_time:\"2025-01-04T11:34:49.849393-05:00\"}), backing off for 999 ms\n",
      "I0000 00:00:1736008490.850406 5532783 subchannel.cc:761] subchannel 0x32fa3f0d0 {address=unix:/var/folders/rn/5219x28n1bb9p3w3td_571000000gn/T/tmppn0fxy_2_dukies.db.sock, args={grpc.client_channel_factory=0x32c5f7dd0, grpc.default_authority=var%2Ffolders%2Frn%2F5219x28n1bb9p3w3td_571000000gn%2FT%2Ftmppn0fxy_2_dukies.db.sock, grpc.enable_retries=1, grpc.internal.channel_credentials=0x32c575d40, grpc.internal.client_channel_call_destination=0x10c5dfa18, grpc.internal.event_engine=0x32e6f9460, grpc.internal.security_connector=0x32e6e4260, grpc.internal.subchannel_pool=0x32a8db900, grpc.keepalive_time_ms=55000, grpc.max_receive_message_length=-1, grpc.max_send_message_length=-1, grpc.primary_user_agent=grpc-python/1.65.1, grpc.resource_quota=0x32f16ac60, grpc.server_uri=unix:/var/folders/rn/5219x28n1bb9p3w3td_571000000gn/T/tmppn0fxy_2_dukies.db.sock}}: backoff delay elapsed, reporting IDLE\n"
     ]
    }
   ],
   "source": [
    "from pymilvus import MilvusClient\n",
    "from sentence_transformers import SentenceTransformer\n",
    "import torch\n",
    "from transformers import AutoModelForSequenceClassification, AutoTokenizer\n",
    "from transformers import AutoModelForCausalLM, AutoTokenizer\n",
    "\n",
    "client = MilvusClient(\"dukies.db\")\n"
   ]
  },
  {
   "cell_type": "code",
   "execution_count": 3,
   "metadata": {},
   "outputs": [
    {
     "name": "stdout",
     "output_type": "stream",
     "text": [
      "using mps for inferencing\n"
     ]
    },
    {
     "name": "stderr",
     "output_type": "stream",
     "text": [
      "I0000 00:00:1736008495.319229 5532294 work_stealing_thread_pool.cc:320] WorkStealingThreadPoolImpl::PrepareFork\n"
     ]
    }
   ],
   "source": [
    "device = torch.device(\"cuda\" if torch.cuda.is_available() else \"mps\" if torch.backends.mps.is_available() else \"cpu\")\n",
    "print(f'using {device} for inferencing')\n",
    "\n",
    "model = SentenceTransformer(rag_model_path, trust_remote_code=True)\n",
    "model.to(device)\n",
    "\n",
    "query_vectors = model.encode([user_input])\n",
    "\n",
    "res = client.search(\n",
    "    collection_name=\"rag_collection\",  # target collection\n",
    "    data=query_vectors,  # query vectors\n",
    "    limit=rag_num_return,  # number of returned entities\n",
    "    output_fields=[\"text\", \"subject\"],  # specifies fields to be returned\n",
    ")\n",
    "\n",
    "res_list = [res[0][i]['entity']['text'] for i in range(len(res[0]))]\n",
    "dist_list = [res[0][i]['distance'] for i in range(len(res[0]))]"
   ]
  },
  {
   "cell_type": "code",
   "execution_count": 4,
   "metadata": {},
   "outputs": [
    {
     "name": "stdout",
     "output_type": "stream",
     "text": [
      "Course Code: ECE 651K\n",
      "Course Name: Software Engineering\n",
      "Description:\n",
      "Teaches students about all steps of the software development lifecycle: requirements definition, design, development, testing, and maintenance. The course assumes students are skilled object-oriented programmers from prior courses, but will include a rapid introduction to Java. Students complete team-based semester-long software project which will progress through all phases of the software lifecycle. Taught at Duke Kunshan University in Kunshan, China. Prerequisite: ECE 551K.\n",
      "Course Code: ECE 564\n",
      "Course Name: Mobile Application Development\n",
      "Description:\n",
      "Explores mobile application development in the Apple Development Environment. Uses core software engineering pillars of Swift, Xcode, iOS & Xcode Cloud to learn how to create apps for Apple products. Focuses on iOS/iPhone, but Xcode also allows for exploration into the VisionPro, the Apple Watch, the iPad, and Apple TV. Real world context focused on common programming patterns for engineers in academia or business - standalone apps, apps connected to other systems, apps connected to the cloud. Covers software engineering fundamentals essential to understanding all aspects of app development. Each team will deliver a fully functioning app. Recommended prerequisite: CompSci 307D or CompSci 308 or ECE 651.\n",
      "COMPSCI  590D\n",
      "Different advanced topics in Computer Science.\n",
      "Overview of professor Owen L. Astrachan: \n",
      "Object-oriented design, software architecture, computer science education, apprentice learning, and automated reasoning.\n",
      "COMPSCI  207\n",
      "This class explores the world of mobile applications development based on Apple's iOS operating system and Swift programming language. The class will work on Mac computers running Xcode, the integrated development environment, to develop applications for iPhone/iPad devices. The class covers fundamentals essential to understanding all aspects of app development from concept to deployment on the App Store. Students required to present their project proposals and deliver a fully functional mobile application as a final project. Prerequisite: Computer Science 201. Computer Science 250 preferred. Instructor Thomas\n",
      "Prerequisites\n",
      "Prerequisite: Computer Science 201 or equivalent\n",
      "Course Code: ECE 551DK\n",
      "Course Name: Programming, Data Structures, and Algorithms in C++\n",
      "Description:\n",
      "Students learn to program in C and C++ with coverage of data structures (linked lists, binary trees, hash tables, graphs), Abstract Data Types (Stacks, Queues, Maps, Sets), and algorithms (sorting, graph search, minimal spanning tree). Efficiency of these structures and algorithms is compared via Big-O analysis. Brief coverage of concurrent (multi-threaded) programming. Emphasis is placed on defensive coding, and use of standard UNIX development tools in preparation for students' entry into real world software development jobs. Taught at Duke Kunshan University in Kunshan, China.\n",
      "COMPSCI  408\n",
      "Development of software in teams that benefits a real-world client in the client's area of expertise. Meet client demands and needs including technology management skills such as feasibility assessment, project planning, project implementation, usability testing, documentation, marketing, and roll-out. Create significant software product, understand software development cycle at scale, create written work to accompany software. Recommended prerequisite: Computer Science 308 or similar team programming experience.\n",
      "Overview of professor Robert C. Duvall: \n",
      "Object-oriented programming, design patterns, graphics, animation and visualization, artificial life, and programming languages.\n",
      "Course Code: ECE 650K\n",
      "Course Name: Systems Programming and Engineering\n",
      "Description:\n",
      "Focuses on a range of topics that are central to both the design of operating systems and the programming system-level software. Students will apply knowledge of basic concepts in operating systems, networking, and programming towards these two areas. Topics covered will include concurrency, process management, hypervisors, networking, security, databases, and file systems. Students will be expected to demonstrate their understanding in these areas through a series of programming assignments covering these topics. Taught at Duke Kunshan University in Kunshan, China. Prerequisite: ECE 550K and ECE 551K.\n",
      "Course Code: ECE 560\n",
      "Course Name: Computer and Information Security\n",
      "Description:\n",
      "An intense trip through many facets of computer and information security. Includes discussion and practical exercises in risk management, threat modeling, applied cryptography, malicious software, network security, intrusion detection and prevention, software and OS security, auditing and forensics, reverse engineering, and social engineering. Includes many hands-on security assignments. Prerequisite: Computer Science 310, ECE 353, or ECE 650.\n"
     ]
    }
   ],
   "source": [
    "for res in res_list:\n",
    "    print(res)"
   ]
  },
  {
   "cell_type": "markdown",
   "metadata": {},
   "source": [
    "# Rerank"
   ]
  },
  {
   "cell_type": "code",
   "execution_count": 5,
   "metadata": {},
   "outputs": [],
   "source": [
    "tokenizer = AutoTokenizer.from_pretrained(rerank_model_path)\n",
    "model = AutoModelForSequenceClassification.from_pretrained(\n",
    "    rerank_model_path, trust_remote_code=True,\n",
    "    torch_dtype=torch.float16\n",
    ").to(device)\n",
    "model.eval()\n",
    "\n",
    "pairs = [[user_input, res_list[i]] for i in range(len(res_list))]\n",
    "\n",
    "with torch.no_grad():\n",
    "    inputs = tokenizer(pairs, padding=True, truncation=True, return_tensors='pt', max_length=512).to(device)\n",
    "    scores = model(**inputs, return_dict=True).logits.view(-1, ).float()\n",
    "\n",
    "selected_responses = [res_list[i] for i, score in enumerate(scores) if score > 0]\n"
   ]
  },
  {
   "cell_type": "code",
   "execution_count": 6,
   "metadata": {},
   "outputs": [
    {
     "name": "stdout",
     "output_type": "stream",
     "text": [
      "Answer the following questions as best you can. You have refer to the following context:\n",
      "\n",
      "----------\n",
      "Course Code: ECE 651K\n",
      "Course Name: Software Engineering\n",
      "Description:\n",
      "Teaches students about all steps of the software development lifecycle: requirements definition, design, development, testing, and maintenance. The course assumes students are skilled object-oriented programmers from prior courses, but will include a rapid introduction to Java. Students complete team-based semester-long software project which will progress through all phases of the software lifecycle. Taught at Duke Kunshan University in Kunshan, China. Prerequisite: ECE 551K.\n",
      "\n",
      "Course Code: ECE 564\n",
      "Course Name: Mobile Application Development\n",
      "Description:\n",
      "Explores mobile application development in the Apple Development Environment. Uses core software engineering pillars of Swift, Xcode, iOS & Xcode Cloud to learn how to create apps for Apple products. Focuses on iOS/iPhone, but Xcode also allows for exploration into the VisionPro, the Apple Watch, the iPad, and Apple TV. Real world context focused on common programming patterns for engineers in academia or business - standalone apps, apps connected to other systems, apps connected to the cloud. Covers software engineering fundamentals essential to understanding all aspects of app development. Each team will deliver a fully functioning app. Recommended prerequisite: CompSci 307D or CompSci 308 or ECE 651.\n",
      "\n",
      "COMPSCI  408\n",
      "Development of software in teams that benefits a real-world client in the client's area of expertise. Meet client demands and needs including technology management skills such as feasibility assessment, project planning, project implementation, usability testing, documentation, marketing, and roll-out. Create significant software product, understand software development cycle at scale, create written work to accompany software. Recommended prerequisite: Computer Science 308 or similar team programming experience.\n",
      "----------\n",
      "\n",
      "Question: I want to take a software development course, give me some recommendations\n",
      "\n"
     ]
    }
   ],
   "source": [
    "def remove_empty_lines(input_string):\n",
    "    return '\\n'.join(line for line in input_string.splitlines() if line.strip())\n",
    "selected_responses = [remove_empty_lines(s) for s in selected_responses]\n",
    "\n",
    "rag_str = '\\n\\n'.join([response for response in selected_responses])\n",
    "\n",
    "\n",
    "final_prompt = f'''Answer the following questions as best you can. You have refer to the following context:\n",
    "\n",
    "----------\n",
    "{rag_str}\n",
    "----------\n",
    "\n",
    "Question: {user_input}\n",
    "'''\n",
    "print(final_prompt)"
   ]
  },
  {
   "cell_type": "code",
   "execution_count": 8,
   "metadata": {},
   "outputs": [
    {
     "name": "stdout",
     "output_type": "stream",
     "text": [
      "Based on the provided information, here are some recommendations for taking software development courses:\n",
      "\n",
      "1. **ECE 651K** (Software Engineering): This course is designed specifically for students who are already proficient in object-oriented programming languages like C++ and have taken previous courses in ECE 551K. It covers all stages of the software development lifecycle, making it suitable for those with strong object-oriented programming skills.\n",
      "\n",
      "2. **ECE 564**: This course focuses on creating mobile applications using the Apple Development Environment. While it requires familiarity with Swift and Xcode, it provides a practical approach to learning how to develop apps for various Apple devices, enhancing your problem-solving skills and understanding of software engineering principles.\n",
      "\n",
      "Both courses align well with the context of developing software within a specific industry and provide relevant coursework experiences.\n"
     ]
    }
   ],
   "source": [
    "model = AutoModelForCausalLM.from_pretrained(\n",
    "    llm_model_name,\n",
    "    torch_dtype=\"auto\",\n",
    "    device_map=\"auto\"\n",
    ").to(device)\n",
    "tokenizer = AutoTokenizer.from_pretrained(llm_model_name)\n",
    "\n",
    "messages = [\n",
    "    {\"role\": \"system\", \"content\": \"You are Dukies, a helpful advisor.\"},\n",
    "    {\"role\": \"user\", \"content\": final_prompt}\n",
    "]\n",
    "text = tokenizer.apply_chat_template(\n",
    "    messages,\n",
    "    tokenize=False,\n",
    "    add_generation_prompt=True\n",
    ")\n",
    "model_inputs = tokenizer([text], return_tensors=\"pt\").to(device)\n",
    "with torch.no_grad():  # Disable gradient calculations for inference\n",
    "    generated_ids = model.generate(\n",
    "        **model_inputs,\n",
    "        max_new_tokens=512,\n",
    "    )\n",
    "generated_ids = [\n",
    "    output_ids[len(input_ids):] for input_ids, output_ids in zip(model_inputs.input_ids, generated_ids)\n",
    "]\n",
    "\n",
    "response = tokenizer.batch_decode(generated_ids, skip_special_tokens=True)[0]\n",
    "\n",
    "print(response)"
   ]
  }
 ],
 "metadata": {
  "kernelspec": {
   "display_name": "myenv",
   "language": "python",
   "name": "python3"
  },
  "language_info": {
   "codemirror_mode": {
    "name": "ipython",
    "version": 3
   },
   "file_extension": ".py",
   "mimetype": "text/x-python",
   "name": "python",
   "nbconvert_exporter": "python",
   "pygments_lexer": "ipython3",
   "version": "3.12.7"
  }
 },
 "nbformat": 4,
 "nbformat_minor": 2
}
