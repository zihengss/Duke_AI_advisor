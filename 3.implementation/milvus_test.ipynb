{
 "cells": [
  {
   "cell_type": "markdown",
   "metadata": {},
   "source": [
    "# Milvus测试"
   ]
  },
  {
   "cell_type": "code",
   "execution_count": 1,
   "metadata": {},
   "outputs": [
    {
     "name": "stderr",
     "output_type": "stream",
     "text": [
      "WARNING: All log messages before absl::InitializeLog() is called are written to STDERR\n",
      "I0000 00:00:1735616245.766444 1872685 config.cc:230] gRPC experiments enabled: call_status_override_on_cancellation, event_engine_dns, event_engine_listener, http2_stats_fix, monitoring_experiment, pick_first_new, trace_record_callops, work_serializer_clears_time_cache\n",
      "I0000 00:00:1735616245.772386 1872808 subchannel.cc:806] subchannel 0x12b9afbf0 {address=unix:/var/folders/rn/5219x28n1bb9p3w3td_571000000gn/T/tmpr6mzfg3t_milvus_demo.db.sock, args={grpc.client_channel_factory=0x15b671680, grpc.default_authority=var%2Ffolders%2Frn%2F5219x28n1bb9p3w3td_571000000gn%2FT%2Ftmpr6mzfg3t_milvus_demo.db.sock, grpc.enable_retries=1, grpc.internal.channel_credentials=0x15b66dc00, grpc.internal.client_channel_call_destination=0x10eebba18, grpc.internal.event_engine=0x13bd4b3f0, grpc.internal.security_connector=0x12b987c40, grpc.internal.subchannel_pool=0x15b6a5400, grpc.keepalive_time_ms=55000, grpc.max_receive_message_length=-1, grpc.max_send_message_length=-1, grpc.primary_user_agent=grpc-python/1.65.1, grpc.resource_quota=0x15b66bf40, grpc.server_uri=unix:/var/folders/rn/5219x28n1bb9p3w3td_571000000gn/T/tmpr6mzfg3t_milvus_demo.db.sock}}: connect failed (UNKNOWN:connect: No such file or directory (2) {created_time:\"2024-12-30T22:37:25.771096-05:00\"}), backing off for 1000 ms\n",
      "I0000 00:00:1735616246.774042 1872806 subchannel.cc:761] subchannel 0x12b9afbf0 {address=unix:/var/folders/rn/5219x28n1bb9p3w3td_571000000gn/T/tmpr6mzfg3t_milvus_demo.db.sock, args={grpc.client_channel_factory=0x15b671680, grpc.default_authority=var%2Ffolders%2Frn%2F5219x28n1bb9p3w3td_571000000gn%2FT%2Ftmpr6mzfg3t_milvus_demo.db.sock, grpc.enable_retries=1, grpc.internal.channel_credentials=0x15b66dc00, grpc.internal.client_channel_call_destination=0x10eebba18, grpc.internal.event_engine=0x13bd4b3f0, grpc.internal.security_connector=0x12b987c40, grpc.internal.subchannel_pool=0x15b6a5400, grpc.keepalive_time_ms=55000, grpc.max_receive_message_length=-1, grpc.max_send_message_length=-1, grpc.primary_user_agent=grpc-python/1.65.1, grpc.resource_quota=0x15b66bf40, grpc.server_uri=unix:/var/folders/rn/5219x28n1bb9p3w3td_571000000gn/T/tmpr6mzfg3t_milvus_demo.db.sock}}: backoff delay elapsed, reporting IDLE\n"
     ]
    }
   ],
   "source": [
    "from pymilvus import MilvusClient\n",
    "\n",
    "client = MilvusClient(\"milvus_demo.db\")\n"
   ]
  },
  {
   "cell_type": "code",
   "execution_count": 2,
   "metadata": {},
   "outputs": [],
   "source": [
    "if client.has_collection(collection_name=\"demo_collection\"):\n",
    "    client.drop_collection(collection_name=\"demo_collection\")\n",
    "client.create_collection(\n",
    "    collection_name=\"demo_collection\",\n",
    "    dimension=768,  # The vectors we will use in this demo has 768 dimensions\n",
    ")\n"
   ]
  },
  {
   "cell_type": "code",
   "execution_count": 7,
   "metadata": {},
   "outputs": [
    {
     "name": "stdout",
     "output_type": "stream",
     "text": [
      "Dim: (768,)\n",
      "Data has 3 entities, each with fields:  dict_keys(['id', 'vector', 'text', 'subject'])\n",
      "Vector dim: 768\n"
     ]
    }
   ],
   "source": [
    "from pymilvus import model\n",
    "from sentence_transformers import SentenceTransformer\n",
    "from sentence_transformers.util import cos_sim\n",
    "\n",
    "model_path = '../models/gte-base-en-v1.5'\n",
    "model = SentenceTransformer(model_path, trust_remote_code=True)\n",
    "\n",
    "docs = [\n",
    "    \"Artificial intelligence was founded as an academic discipline in 1956.\",\n",
    "    \"Alan Turing was the first person to conduct substantial research in AI.\",\n",
    "    \"Born in Maida Vale, London, Turing was raised in southern England.\",\n",
    "]\n",
    "\n",
    "vectors = model.encode(docs)\n",
    "print(\"Dim:\", vectors[0].shape)  # Dim: 768 (768,) \n",
    "\n",
    "data = [\n",
    "    {\"id\": i, \"vector\": vectors[i], \"text\": docs[i], \"subject\": \"history\"}\n",
    "    for i in range(len(vectors))\n",
    "]\n",
    "\n",
    "print(\"Data has\", len(data), \"entities, each with fields: \", data[0].keys())\n",
    "print(\"Vector dim:\", len(data[0][\"vector\"]))\n"
   ]
  },
  {
   "cell_type": "code",
   "execution_count": 9,
   "metadata": {},
   "outputs": [
    {
     "name": "stdout",
     "output_type": "stream",
     "text": [
      "{'insert_count': 3, 'ids': [0, 1, 2]}\n"
     ]
    }
   ],
   "source": [
    "res = client.insert(collection_name=\"demo_collection\", data=data)\n",
    "\n",
    "print(res)\n"
   ]
  },
  {
   "cell_type": "code",
   "execution_count": 10,
   "metadata": {},
   "outputs": [
    {
     "name": "stdout",
     "output_type": "stream",
     "text": [
      "data: [\"[{'id': 1, 'distance': 0.7142452001571655, 'entity': {'text': 'Alan Turing was the first person to conduct substantial research in AI.', 'subject': 'history'}}, {'id': 2, 'distance': 0.643290102481842, 'entity': {'text': 'Born in Maida Vale, London, Turing was raised in southern England.', 'subject': 'history'}}]\"] \n"
     ]
    }
   ],
   "source": [
    "query_vectors = model.encode([\"Who is Alan Turing?\"])\n",
    "\n",
    "res = client.search(\n",
    "    collection_name=\"demo_collection\",  # target collection\n",
    "    data=query_vectors,  # query vectors\n",
    "    limit=2,  # number of returned entities\n",
    "    output_fields=[\"text\", \"subject\"],  # specifies fields to be returned\n",
    ")\n",
    "\n",
    "print(res)\n"
   ]
  }
 ],
 "metadata": {
  "kernelspec": {
   "display_name": "myenv",
   "language": "python",
   "name": "python3"
  },
  "language_info": {
   "codemirror_mode": {
    "name": "ipython",
    "version": 3
   },
   "file_extension": ".py",
   "mimetype": "text/x-python",
   "name": "python",
   "nbconvert_exporter": "python",
   "pygments_lexer": "ipython3",
   "version": "3.12.7"
  }
 },
 "nbformat": 4,
 "nbformat_minor": 2
}
